{
 "cells": [
  {
   "cell_type": "code",
   "execution_count": 1,
   "metadata": {},
   "outputs": [
    {
     "data": {
      "text/plain": [
       "array([[4, 2, 1]])"
      ]
     },
     "execution_count": 1,
     "metadata": {},
     "output_type": "execute_result"
    }
   ],
   "source": [
    "import numpy as np\n",
    "\n",
    "np.vander([2],3)"
   ]
  },
  {
   "cell_type": "code",
   "execution_count": 2,
   "metadata": {},
   "outputs": [],
   "source": [
    "## Old Poly Produc\n",
    "\n",
    "# def polyProduct(x, y, xcoeffs:'list[float]'=None, ycoeffs:'list[float]'=None,*coeffs):\n",
    "#         coeff_len = len(coeffs)\n",
    "#         return XLin(x, *xcoeffs) * YLin(y, ycoeffs) + sum([i for i in range(coeff_len)])"
   ]
  },
  {
   "cell_type": "code",
   "execution_count": 3,
   "metadata": {},
   "outputs": [],
   "source": [
    "import inspect"
   ]
  },
  {
   "cell_type": "code",
   "execution_count": 4,
   "metadata": {},
   "outputs": [],
   "source": [
    "def func(a,c,b,d,*args):\n",
    "    return a+b+c+d\n",
    "\n"
   ]
  },
  {
   "cell_type": "code",
   "execution_count": 5,
   "metadata": {},
   "outputs": [],
   "source": [
    "func_sig=inspect.signature(func)"
   ]
  },
  {
   "cell_type": "code",
   "execution_count": 18,
   "metadata": {},
   "outputs": [
    {
     "ename": "NameError",
     "evalue": "name 'func_sig' is not defined",
     "output_type": "error",
     "traceback": [
      "\u001b[1;31m---------------------------------------------------------------------------\u001b[0m",
      "\u001b[1;31mNameError\u001b[0m                                 Traceback (most recent call last)",
      "Cell \u001b[1;32mIn[18], line 1\u001b[0m\n\u001b[1;32m----> 1\u001b[0m [func_sig\u001b[38;5;241m.\u001b[39mparameters\u001b[38;5;241m.\u001b[39mget(i) \u001b[38;5;28;01mfor\u001b[39;00m i \u001b[38;5;129;01min\u001b[39;00m \u001b[43mfunc_sig\u001b[49m\u001b[38;5;241m.\u001b[39mparameters \u001b[38;5;28;01mif\u001b[39;00m i\u001b[38;5;241m!=\u001b[39m\u001b[38;5;124m'\u001b[39m\u001b[38;5;124mb\u001b[39m\u001b[38;5;124m'\u001b[39m]\n",
      "\u001b[1;31mNameError\u001b[0m: name 'func_sig' is not defined"
     ]
    }
   ],
   "source": [
    "[func_sig.parameters.get(i) for i in func_sig.parameters if i!='b']"
   ]
  },
  {
   "cell_type": "code",
   "execution_count": null,
   "metadata": {},
   "outputs": [],
   "source": [
    "\n",
    "\n",
    "import inspect\n",
    "import numpy as np\n",
    "import scipy.optimize as optimist\n",
    "import numpy.linalg as linalg\n",
    "\n",
    "\n",
    "\n",
    "# A polynomial function maker and an XY Product Maker\n",
    "def functionMaker(n: int, m: int, dx: int = 1, dy: int = 1):\n",
    "    '''\n",
    "    Args:\n",
    "        n: int - The size of the polynomial in the Minor axis\n",
    "        m: int - The size of the polynomial in the Major axis \n",
    "    Returns:\n",
    "        XLin: function - A linear Polynomial function that depends soley on x\n",
    "        YLin: function - A linear Polynomial function that depends soley on y\n",
    "        polyProduct: function - A linear Polynomial function that depends on x and y\n",
    "    Details:\n",
    "    \n",
    "    '''\n",
    "    print(n,m)\n",
    "    \n",
    "    # Defines an linear Polynomial function dependent only on x given n Parameters\n",
    "    def XLin(x, *args):\n",
    "        '''\n",
    "        XLin: A linear polynomial in one axis.\n",
    "        \n",
    "        We generalise the idea of unkowns.\n",
    "        \n",
    "            x:  The value of x at the point we want to soove the polynomial\n",
    "        *args:  The polynomial coefficients in order of most important to least important \n",
    "        '''\n",
    "        \n",
    "        # initilizes the results variable to zero\n",
    "        result = np.float64(0.0)\n",
    "        x = np.float64(x)\n",
    "        print(args)\n",
    "        # Evaluates each polynomial terms and adds them together\n",
    "        for i in range(1, n+1):\n",
    "            result = result+args[-i]*np.power(x,(i))\n",
    "            print(f\"{args[-i]}*{x}^({i})= {args[-i]}*{x**i} ={result+args[-i]*x**(i)}\")\n",
    "            \n",
    "        print(result)\n",
    "        \n",
    "        # constrain to a widely availible floating point representation\n",
    "        return result\n",
    "\n",
    "    # Defines an linear Polynomial function for X given n Parameters\n",
    "    # Does the same thing that the XLin does\n",
    "    def YLin(y, *args):\n",
    "         \n",
    "        result = 0\n",
    "        \n",
    "        for i in range(1, m + dy, dy):\n",
    "            result += args[-i] * (y ** (i))\n",
    "            \n",
    "        return np.float64(result)\n",
    "\n",
    "    \n",
    "\n",
    "    # Everything in this function context beyond here is for compatibility with \n",
    "    # introspective curve fitter. For most people this can be ignored\n",
    "    \n",
    "    xParam = [inspect.Parameter(\n",
    "                f\"x\",\n",
    "                inspect._ParameterKind.POSITIONAL_OR_KEYWORD,\n",
    "                default=0,\n",
    "                annotation=np.float64,\n",
    "            )]\n",
    "\n",
    "    xCoeffParams = [\n",
    "            inspect.Parameter(\n",
    "                f\"x_{i}\",\n",
    "                inspect._ParameterKind.POSITIONAL_OR_KEYWORD,\n",
    "                default=0,\n",
    "                annotation=np.float64,\n",
    "            )\n",
    "            for i in range(0, n, 1)\n",
    "        ]\n",
    "    \n",
    "    xParams  = xParam+xCoeffParams\n",
    "    \n",
    "    XLin.__signature__ = inspect.Signature(\n",
    "        xParams,\n",
    "        return_annotation=np.float64,\n",
    "        __validate_parameters__=True,\n",
    "    )\n",
    "    \n",
    "    yParam = [\n",
    "            inspect.Parameter(\n",
    "                f\"y\",\n",
    "                inspect._ParameterKind.POSITIONAL_OR_KEYWORD,\n",
    "                default=0,\n",
    "                annotation=np.float64,\n",
    "            )]\n",
    "    \n",
    "    yCoeffParams = [\n",
    "            inspect.Parameter(\n",
    "                f\"y_{i}\",\n",
    "                inspect._ParameterKind.POSITIONAL_OR_KEYWORD,\n",
    "                default=0,\n",
    "                annotation=np.float64,\n",
    "            )\n",
    "            for i in range(0, m, 1)\n",
    "        ]\n",
    "    \n",
    "    yParams = yParam+yCoeffParams\n",
    "    \n",
    "    YLin.__signature__ = inspect.Signature(\n",
    "        yParams,\n",
    "        return_annotation=np.float64,\n",
    "        __validate_parameters__=True,\n",
    "    )\n",
    "    \n",
    "    \n",
    "    \n",
    "    \n",
    "    \n",
    "    \n",
    "    \n",
    "    mixedParam = [\n",
    "        inspect.Parameter(\n",
    "                f\"x\",\n",
    "                inspect._ParameterKind.POSITIONAL_OR_KEYWORD,\n",
    "                default=0,\n",
    "                annotation=np.float64,\n",
    "            ),\n",
    "        inspect.Parameter(\n",
    "                f\"y\",\n",
    "                inspect._ParameterKind.POSITIONAL_OR_KEYWORD,\n",
    "                default=0,\n",
    "                annotation=np.float64,\n",
    "            ),\n",
    "        inspect.Parameter(\n",
    "                f\"xcoeffs\",\n",
    "                inspect._ParameterKind.POSITIONAL_OR_KEYWORD,\n",
    "                default=0,\n",
    "                annotation=np.float64,\n",
    "            ),\n",
    "        inspect.Parameter(\n",
    "                f\"ycoeffs\",\n",
    "                inspect._ParameterKind.POSITIONAL_OR_KEYWORD,\n",
    "                default=0,\n",
    "                annotation=np.float64,\n",
    "            ),\n",
    "    ]\n",
    "    \n",
    "    mixedParams = [\n",
    "            inspect.Parameter(\n",
    "                f\"c_{i}\",\n",
    "                inspect._ParameterKind.POSITIONAL_OR_KEYWORD,\n",
    "                default=0,\n",
    "                annotation=np.float64,\n",
    "            )\n",
    "            for i in range(0, n*m, 1)\n",
    "        ]\n",
    "    \n",
    "    def polyProduct(x, y, xcoeffs:'list[float]'=None, ycoeffs:'list[float]'=None,*coeffs):\n",
    "        coeff_len = len(coeffs)\n",
    "        interpolated_func = XLin(x, *xcoeffs) * YLin(y, ycoeffs)\n",
    "        \n",
    "        xs=np.vander([x],n)\n",
    "        ys=np.vander([y],m)\n",
    "        fixingProduct = ((xs.T@ys).flatten())*coeffs\n",
    "        \n",
    "        return interpolated_func+fixingProduct\n",
    "            \n",
    "\n",
    "    \n",
    "    polyProduct.__signature__ = inspect.Signature(\n",
    "        mixedParams,\n",
    "        return_annotation=np.float64,\n",
    "        __validate_parameters__=True,\n",
    "    )\n",
    "    \n",
    "    \n",
    "    \n",
    "    # return the X-dependent Linear polynomial, \n",
    "    # Y Linear Polynomial and Polynomial Product function\n",
    "    return XLin, YLin, polyProduct\n",
    "\n",
    "\n",
    "# A default ready made but slow fitting function \n",
    "def InterpolateGrid(Grid:'np.ndarray',x0:'np.ndarray',y0:'np.ndarray',x1:'np.ndarray',y1:'np.ndarray',dy:float=1.0,dx:float=1.0):\n",
    "    (n,m) = Grid.shape\n",
    "    XPolyNomial,YPolyNomial,XYPolyNomial=functionMaker(n,m)\n",
    "    \n",
    "    Xs=np.arange(x0,x1+dx,dx)\n",
    "    Ys=np.arange(y0,y1+dy,dy)\n",
    "    \n",
    "    xCov=None\n",
    "    yCov = None\n",
    "    \n",
    "    print(XPolyNomial.__signature__)\n",
    "    print(YPolyNomial.__signature__)\n",
    "    try:\n",
    "        # Using curve fit is lazy but its better than writing a lsq function\n",
    "        xOptimal,xCov=optimist.curve_fit(XPolyNomial,Xs,Grid[0,:])\n",
    "        \n",
    "    except RuntimeError:\n",
    "        xOptimal = np.polyfit(Xs,Grid[0,:],Xs.shape[0])\n",
    "    print('XOptimal=',xOptimal)\n",
    "    print('XCov=',xCov) if xCov is not None else None\n",
    "    try:\n",
    "        yOptimal,yCov=optimist.curve_fit(YPolyNomial,Ys,Grid[:,0].T)\n",
    "        \n",
    "    except RuntimeError:\n",
    "        yOptimal = np.polyfit(Ys,Grid[:,0].T,Ys.shape[0])\n",
    "\n",
    "    print('YOptimal=',yOptimal)\n",
    "    print('XCov=',xOptimal) if yCov is not None else None\n",
    "    def __innerProduct(y:np.float64):\n",
    "        nonlocal xOptimal,yOptimal\n",
    "        def _innerProduct(x:np.float64,*args):\n",
    "            nonlocal xOptimal,yOptimal\n",
    "            return XYPolyNomial(x,y,xOptimal,yOptimal,*args)\n",
    "        sig = inspect.signature(XYPolyNomial)\n",
    "        sig = inspect.Signature([sig.parameters.get(param) for param in sig.parameters if param!='y'])\n",
    "        \n",
    "        _innerProduct.__signature__ = sig\n",
    "        \n",
    "        # TODO add a function signature to _innerProduct before returning it\n",
    "        return _innerProduct\n",
    "    XYoptimal = None\n",
    "    XYcov = None\n",
    "    for i in range(0,Ys.shape[0]):\n",
    "        polyProd = __innerProduct(Ys[i])\n",
    "        \n",
    "        if (XYoptimal is not None):\n",
    "            XYoptimal,XYcov = optimist.curve_fit(polyProd,Xs,Grid[i,:],p0=XYoptimal,sigma=XYcov,maxfev=999)\n",
    "        else:\n",
    "            XYoptimal,XYcov = optimist.curve_fit(polyProd,Xs,Grid[i,:],maxfev=999)\n",
    "    return xOptimal,yOptimal,XYoptimal\n",
    "        \n",
    "                                      "
   ]
  },
  {
   "cell_type": "code",
   "execution_count": 38,
   "metadata": {},
   "outputs": [
    {
     "name": "stdout",
     "output_type": "stream",
     "text": [
      "3 3\n",
      "(1, 2, 3)\n",
      "3*0^(1)= 3*0 =0.0\n",
      "2*0^(2)= 2*0 =0.0\n",
      "1*0^(3)= 1*0 =0.0\n",
      "0.0\n"
     ]
    },
    {
     "data": {
      "text/plain": [
       "1"
      ]
     },
     "execution_count": 38,
     "metadata": {},
     "output_type": "execute_result"
    }
   ],
   "source": [
    "XPolyNomial,YPolyNomial,XYPolyNomial=functionMaker(3,3)\n",
    "XPolyNomial(0,1,2,3)\n",
    "\n",
    "0**0"
   ]
  },
  {
   "cell_type": "code",
   "execution_count": 3,
   "metadata": {},
   "outputs": [
    {
     "data": {
      "text/plain": [
       "array([[1., 0.],\n",
       "       [0., 1.]])"
      ]
     },
     "execution_count": 3,
     "metadata": {},
     "output_type": "execute_result"
    }
   ],
   "source": [
    "import numpy as np\n",
    "G=np.array([\n",
    "    [1,0,0],\n",
    "    [0,1,0]\n",
    "],np.float64)\n",
    "\n",
    "Z=G.T\n",
    "\n",
    "np.dot(G,Z)"
   ]
  },
  {
   "cell_type": "code",
   "execution_count": null,
   "metadata": {},
   "outputs": [],
   "source": []
  }
 ],
 "metadata": {
  "kernelspec": {
   "display_name": "phys_proj",
   "language": "python",
   "name": "python3"
  },
  "language_info": {
   "codemirror_mode": {
    "name": "ipython",
    "version": 3
   },
   "file_extension": ".py",
   "mimetype": "text/x-python",
   "name": "python",
   "nbconvert_exporter": "python",
   "pygments_lexer": "ipython3",
   "version": "3.13.2"
  }
 },
 "nbformat": 4,
 "nbformat_minor": 2
}
